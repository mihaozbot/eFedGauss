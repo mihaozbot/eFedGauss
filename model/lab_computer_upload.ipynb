{
 "cells": [
  {
   "cell_type": "code",
   "execution_count": 1,
   "metadata": {},
   "outputs": [],
   "source": [
    "import paramiko #pip install paramiko\n",
    "import tarfile\n",
    "import os\n",
    "import sys"
   ]
  },
  {
   "cell_type": "code",
   "execution_count": 2,
   "metadata": {},
   "outputs": [],
   "source": [
    "def ssh_connect(hostname, port, username, password):\n",
    "    try:\n",
    "        # Create SSH client\n",
    "        ssh = paramiko.SSHClient()\n",
    "        ssh.set_missing_host_key_policy(paramiko.AutoAddPolicy())\n",
    "\n",
    "        # Connect to the host\n",
    "        ssh.connect(hostname, port=port, username=username, password=password)\n",
    "        \n",
    "        ssh.close()\n",
    "    except Exception as e:\n",
    "        print(f\"Connection failed: {e}\")\n",
    "\n",
    "\n",
    "# Function to create a tarball from a source directory\n",
    "def make_tarfile(output_filename, source_dir):\n",
    "    with tarfile.open(output_filename, \"w:gz\") as tar:\n",
    "        for root, dirs, files in os.walk(source_dir):\n",
    "            dirs[:] = [d for d in dirs if not d.startswith('.') and d != '__pycache__']\n",
    "            for file in files:\n",
    "                if not file.startswith('.') and not file.endswith('.pyc'):\n",
    "                    file_path = os.path.join(root, file)\n",
    "                    tar.add(file_path, arcname=os.path.relpath(file_path, start=source_dir))\n",
    "\n",
    "# Function to show upload progress\n",
    "def print_progress(transferred, total):\n",
    "    progress_percentage = (transferred / total) * 100\n",
    "    sys.stdout.write(f\"Transfer Progress: {progress_percentage:.2f}%\\r\")\n",
    "    sys.stdout.flush()\n",
    "\n",
    "# Function to transfer a file via SFTP\n",
    "def transfer_file(local_path, remote_path, hostname, port, username, password):\n",
    "    ssh = paramiko.SSHClient()\n",
    "    ssh.set_missing_host_key_policy(paramiko.AutoAddPolicy())\n",
    "    ssh.connect(hostname, port=port, username=username, password=password)\n",
    "\n",
    "    sftp = ssh.open_sftp()\n",
    "    sftp.put(local_path, remote_path, callback=print_progress)\n",
    "    sftp.close()\n",
    "    ssh.close()\n",
    "\n",
    "# Function to execute commands remotely via SSH\n",
    "def execute_commands_on_server(hostname, port, username, password, remote_path):\n",
    "    ssh = paramiko.SSHClient()\n",
    "    ssh.set_missing_host_key_policy(paramiko.AutoAddPolicy())\n",
    "    ssh.connect(hostname, port=port, username=username, password=password)\n",
    "\n",
    "    extraction_directory = '/path/to/extraction_directory'  # Modify this path as needed\n",
    "\n",
    "    commands = [\n",
    "        f\"mkdir -p {extraction_directory}\",\n",
    "        f\"tar -xvzf {remote_path} -C {extraction_directory}\",\n",
    "    ]\n",
    "\n",
    "    for command in commands:\n",
    "        stdin, stdout, stderr = ssh.exec_command(command)\n",
    "        print(stdout.read().decode())\n",
    "        err = stderr.read().decode()\n",
    "        if err:\n",
    "            print(\"Error:\", err)\n",
    "\n",
    "    ssh.close()\n"
   ]
  },
  {
   "cell_type": "code",
   "execution_count": 6,
   "metadata": {},
   "outputs": [
    {
     "name": "stdout",
     "output_type": "stream",
     "text": [
      "Connection failed: [WinError 10060] A connection attempt failed because the connected party did not properly respond after a period of time, or established connection failed because connected host has failed to respond\n"
     ]
    }
   ],
   "source": [
    "\n",
    "# Parameters for the target machine\n",
    "hostname = '192.168.222.12'\n",
    "port = 22\n",
    "username = 'lakfe'\n",
    "password = '2024'\n",
    "remote_path = '/remote/path/eFedGauss.tar.gz'\n",
    "\n",
    "ssh_connect(hostname, port, username, password)\n"
   ]
  },
  {
   "cell_type": "code",
   "execution_count": 4,
   "metadata": {},
   "outputs": [],
   "source": [
    "# Create a tarball from the source directory\n",
    "source_folder = r'C:\\Users\\Miha\\OneDrive - Univerza v Ljubljani\\Doktorski_studij\\Delo\\eGAUSSp_Python'\n",
    "output_tarball = 'eFedGauss.tar.gz'\n",
    "make_tarfile(output_tarball, source_folder)"
   ]
  },
  {
   "cell_type": "code",
   "execution_count": 5,
   "metadata": {},
   "outputs": [],
   "source": [
    "\n",
    "# Transfer the tarball to the remote machine\n",
    "transfer_file(output_tarball, remote_path, hostname, port, username, password)\n"
   ]
  },
  {
   "cell_type": "code",
   "execution_count": null,
   "metadata": {},
   "outputs": [],
   "source": [
    "\n",
    "# Execute commands on the remote machine\n",
    "execute_commands_on_server(hostname, port, username, password, remote_path)"
   ]
  }
 ],
 "metadata": {
  "kernelspec": {
   "display_name": "Python 3",
   "language": "python",
   "name": "python3"
  },
  "language_info": {
   "codemirror_mode": {
    "name": "ipython",
    "version": 3
   },
   "file_extension": ".py",
   "mimetype": "text/x-python",
   "name": "python",
   "nbconvert_exporter": "python",
   "pygments_lexer": "ipython3",
   "version": "3.11.7"
  }
 },
 "nbformat": 4,
 "nbformat_minor": 2
}
